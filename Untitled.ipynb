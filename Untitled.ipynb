{
 "cells": [
  {
   "cell_type": "code",
   "execution_count": null,
   "id": "7ba73c43",
   "metadata": {},
   "outputs": [],
   "source": [
    "things = [\"mozzarella\", \"cinderella\", \"salmonella\"]\n",
    "print(things)\n"
   ]
  },
  {
   "cell_type": "code",
   "execution_count": null,
   "id": "e3f4d6d5",
   "metadata": {},
   "outputs": [],
   "source": [
    "things[1] = things[1].capitalize()"
   ]
  },
  {
   "cell_type": "code",
   "execution_count": null,
   "id": "939dd8fb",
   "metadata": {},
   "outputs": [],
   "source": [
    "things[0] = things[0].upper()"
   ]
  },
  {
   "cell_type": "code",
   "execution_count": null,
   "id": "a2e9fc47",
   "metadata": {},
   "outputs": [],
   "source": [
    "things.remove('salmonella')\n",
    "\n",
    "# Print the updated list\n",
    "print(things)"
   ]
  },
  {
   "cell_type": "code",
   "execution_count": null,
   "id": "aaf4e536",
   "metadata": {},
   "outputs": [],
   "source": [
    "def good():\n",
    "    return ['Harry', 'Ron', 'Hermione']\n",
    "\n",
    "result = good()\n",
    "print(result)"
   ]
  },
  {
   "cell_type": "code",
   "execution_count": null,
   "id": "e03dedac",
   "metadata": {},
   "outputs": [],
   "source": [
    "def get_odds():\n",
    "    for number in range(10):\n",
    "        if number % 2 != 0:\n",
    "            yield number\n",
    "\n",
    "# Use a for loop to find and print the third value returned\n",
    "count = 0\n",
    "for value in get_odds():\n",
    "    count += 1\n",
    "    if count == 3:\n",
    "        print(\"Third odd value:\", value)\n",
    "        break"
   ]
  }
 ],
 "metadata": {
  "kernelspec": {
   "display_name": "Python 3 (ipykernel)",
   "language": "python",
   "name": "python3"
  },
  "language_info": {
   "codemirror_mode": {
    "name": "ipython",
    "version": 3
   },
   "file_extension": ".py",
   "mimetype": "text/x-python",
   "name": "python",
   "nbconvert_exporter": "python",
   "pygments_lexer": "ipython3",
   "version": "3.11.5"
  }
 },
 "nbformat": 4,
 "nbformat_minor": 5
}
